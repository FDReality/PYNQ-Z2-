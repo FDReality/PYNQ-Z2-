{
 "cells": [
  {
   "cell_type": "code",
   "execution_count": 1,
   "metadata": {},
   "outputs": [],
   "source": [
    "import socket\n",
    "import cv2\n",
    "import numpy as np\n",
    "import imutils\n",
    "import time\n",
    "import random"
   ]
  },
  {
   "cell_type": "code",
   "execution_count": 2,
   "metadata": {
    "scrolled": true
   },
   "outputs": [
    {
     "name": "stderr",
     "output_type": "stream",
     "text": [
      "<ipython-input-2-05ba59ffa242>:134: DeprecationWarning: tostring() is deprecated. Use tobytes() instead.\n",
      "  data = data_encode.tostring()\n"
     ]
    },
    {
     "name": "stdout",
     "output_type": "stream",
     "text": [
      "You are not talking!\n",
      "You are not talking!\n",
      "You are not talking!\n",
      "You are not talking!\n",
      "You are not talking!\n",
      "You are not talking!\n",
      "You are not talking!\n",
      "You are not talking!\n",
      "You are not talking!\n",
      "You are not talking!\n",
      "You are not talking!\n",
      "You are not talking!\n",
      "You are saying: 恭\n",
      "You are not talking!\n",
      "You are not talking!\n",
      "You are not talking!\n",
      "You are not talking!\n",
      "You are not talking!\n",
      "You are not talking!\n",
      "You are not talking!\n",
      "You are not talking!\n",
      "You are not talking!\n",
      "You are not talking!\n",
      "You are not talking!\n",
      "You are not talking!\n",
      "You are not talking!\n",
      "You are not talking!\n",
      "You are not talking!\n",
      "You are not talking!\n",
      "You are not talking!\n",
      "You are not talking!\n",
      "You are not talking!\n",
      "You are not talking!\n",
      "You are not talking!\n",
      "You are saying: 喜\n",
      "You are saying: 发\n",
      "You are saying: 财\n",
      "You are saying: 恭\n",
      "You are saying: 发\n",
      "You are saying: 发\n",
      "You are not talking!\n",
      "You are saying: 财\n",
      "You are saying: 恭\n",
      "You are saying: 发\n",
      "You are not talking!\n",
      "You are not talking!\n",
      "You are not talking!\n",
      "You are not talking!\n",
      "You are not talking!\n",
      "You are not talking!\n",
      "You are not talking!\n",
      "You are saying: 喜\n"
     ]
    },
    {
     "ename": "KeyboardInterrupt",
     "evalue": "",
     "output_type": "error",
     "traceback": [
      "\u001b[0;31m---------------------------------------------------------------------------\u001b[0m",
      "\u001b[0;31mKeyboardInterrupt\u001b[0m                         Traceback (most recent call last)",
      "\u001b[0;32m<ipython-input-2-05ba59ffa242>\u001b[0m in \u001b[0;36m<module>\u001b[0;34m\u001b[0m\n\u001b[1;32m     34\u001b[0m         \u001b[0mfaces\u001b[0m \u001b[0;34m=\u001b[0m \u001b[0mface_cascade\u001b[0m\u001b[0;34m.\u001b[0m\u001b[0mdetectMultiScale\u001b[0m\u001b[0;34m(\u001b[0m\u001b[0mgray\u001b[0m\u001b[0;34m,\u001b[0m \u001b[0;36m1.3\u001b[0m\u001b[0;34m,\u001b[0m \u001b[0;36m5\u001b[0m\u001b[0;34m)\u001b[0m\u001b[0;34m\u001b[0m\u001b[0;34m\u001b[0m\u001b[0m\n\u001b[1;32m     35\u001b[0m         \u001b[0;31m# detect face and eyes\u001b[0m\u001b[0;34m\u001b[0m\u001b[0;34m\u001b[0m\u001b[0;34m\u001b[0m\u001b[0m\n\u001b[0;32m---> 36\u001b[0;31m         \u001b[0mcv2\u001b[0m\u001b[0;34m.\u001b[0m\u001b[0mwaitKey\u001b[0m\u001b[0;34m(\u001b[0m\u001b[0;36m300\u001b[0m\u001b[0;34m)\u001b[0m\u001b[0;34m\u001b[0m\u001b[0;34m\u001b[0m\u001b[0m\n\u001b[0m\u001b[1;32m     37\u001b[0m \u001b[0;34m\u001b[0m\u001b[0m\n\u001b[1;32m     38\u001b[0m         \u001b[0;31m#time_start = time.time()  # 记录开始时间\u001b[0m\u001b[0;34m\u001b[0m\u001b[0;34m\u001b[0m\u001b[0;34m\u001b[0m\u001b[0m\n",
      "\u001b[0;31mKeyboardInterrupt\u001b[0m: "
     ]
    }
   ],
   "source": [
    "s = socket.socket(socket.AF_INET, socket.SOCK_DGRAM)\n",
    "\n",
    "\n",
    "videoIn = cv2.VideoCapture()\n",
    "videoIn.open(0)\n",
    "videoIn.set(3,160)\n",
    "videoIn.set(4,120)\n",
    "#import face data\n",
    "face_cascade = cv2.CascadeClassifier(\n",
    "        '/home/xilinx/jupyter_notebooks/base/video/data/'\n",
    "        'haarcascade_frontalface_default.xml')\n",
    "        #import eye data\n",
    "mouth_cascade = cv2.CascadeClassifier(\n",
    "        '/home/xilinx/jupyter_notebooks/base/video/data/'\n",
    "        'haarcascade_mcs_mouth.xml')\n",
    "# pre_train = np.load(\"autoencoder3.npy\", allow_pickle=True, encoding=\"latin1\")\n",
    "# weight1 = pre_train.item()['layer_with_weights-0']\n",
    "# weight2 = pre_train.item()['layer_with_weights-1']\n",
    "\n",
    "weight11 = np.load(\"weight1.npy\")\n",
    "bias11 = np.load(\"bias1.npy\")\n",
    "weight22 = np.load(\"weight2.npy\")\n",
    "bias22 = np.load(\"bias2.npy\")\n",
    "a= 0\n",
    "b = 0\n",
    "xx = 0\n",
    "c = 0\n",
    "while True:\n",
    "    ret, frame_vga = videoIn.read()\n",
    "    if (ret):   \n",
    "# 发送数据:\n",
    "        # picture thransform to gray\n",
    "        gray = cv2.cvtColor(frame_vga, cv2.COLOR_BGR2GRAY)\n",
    "        faces = face_cascade.detectMultiScale(gray, 1.3, 5)\n",
    "        # detect face and eyes\n",
    "        cv2.waitKey(300)  \n",
    "        \n",
    "        #time_start = time.time()  # 记录开始时间\n",
    "                # function()   执行的程序\n",
    "\n",
    "        for (x,y,w,h) in faces:\n",
    "            #draw rectangle\n",
    "            mh = int(0.6 * h)\n",
    "            cv2.rectangle(frame_vga,(x,y + mh),(x+w,y+h),(255,0,0),2)\n",
    "            roi_gray = gray[y + mh:y + h, x:x+w]\n",
    "            roi_color = frame_vga[y + mh:y + h, x:x+w] \n",
    "            test = gray[y + mh:y + h, x :x+w]\n",
    "            mouths = mouth_cascade.detectMultiScale(roi_gray)\n",
    "        \n",
    "            for (ex,ey,ew,eh) in mouths:\n",
    "                cv2.rectangle(roi_color,(ex,ey),(ex+ew,ey+eh),(0,255,0),2)\n",
    "                test = test[ey:ey + eh, ex :ex+ew]\n",
    "                \n",
    "#                 time_start = time.time()  # 记录开始时间\n",
    "                test1=cv2.resize(test,(28,28))\n",
    "                data = np.matrix(test1,dtype='float')\n",
    "                new_data = np.reshape(data,(1,784))\n",
    "                new_date = np.array(new_data)\n",
    "\n",
    "                tensor1 = np.dot(new_data,weight11) + bias11\n",
    "#                print(tensor1)\n",
    "#                print('预测结果是：',np.argmax(np.dot(tensor1,weight22)+bias22))\n",
    "                xx = np.argmax(np.dot(tensor1,weight22)+bias22)\n",
    "#                print(xx)\n",
    "                if(xx == 0):\n",
    "                    a += 1\n",
    "                if(xx == 2):\n",
    "                    b += 1\n",
    "        \n",
    "                # function()   执行的程序\n",
    "#                 time_end = time.time()  # 记录结束时间\n",
    "#                 time_sum = time_end - time_start  # 计算的时间差为程序的执行时间，单位为秒/s\n",
    "#                 print(time_sum)\n",
    "#                 photoname+=1\n",
    "#                 filename = str(photoname) + '.jpg'  # filename为图像名字，将photoname作为编号命名保存的截图\n",
    "#                 \n",
    "#                 cv2.imwrite(filename, test1)  # 截图 前面为放在桌面的路径 frame为此时的图像              \n",
    "#                 print(filename + '保存成功')  # 打印保存成功\n",
    "#                 if(photoname>20):\n",
    "#                     print(photoname)\n",
    "#                     break\n",
    "\n",
    "\n",
    "        \n",
    "\n",
    "        frame_vga=imutils.resize(frame_vga, width=480)\n",
    "        img_encode = cv2.imencode('.jpg', frame_vga)[1]\n",
    "        data_encode = np.array(img_encode)\n",
    "        data = data_encode.tostring()\n",
    "        s.sendto(data, ('192.168.137.1', 6050))\n",
    "        \n",
    "\n",
    "\n",
    "\n",
    "#                 photoname+=1\n",
    "#                 filename = str(photoname) + '.jpg'  # filename为图像名字，将photoname作为编号命名保存的截图\n",
    "#                 cv2.imwrite(filename, frame_vga)  # 截图 前面为放在桌面的路径 frame为此时的图像\n",
    "#                 print(filename + '保存成功')  # 打印保存成功\n",
    "\n",
    "\n",
    "# #             if(i>5):  \n",
    "# #                 #print(eyes.shape)\n",
    "# #                 #------------------------------------------------\n",
    "# #                 #test resize\n",
    "# #                 frame_vga=cv2.resize(test1,(1024,768))\n",
    "# #     #           print(img.shape)\n",
    "# #                 b,g,r = cv2.split(test1)\n",
    "# #                 img_rgb = cv2.merge([r,g,b])\n",
    "# #                 cv2.imwrite('31.jpg',test1)\n",
    "# #                 print(\"image save\")\n",
    "# #                 #break while when detected face\n",
    "# #                 #------------------------------------------------   \n",
    "# #                 face_flag = False\n",
    "# #                 break\n",
    "\n",
    "\n",
    "#         # print the result picture\n",
    "#             get_ipython().magic('matplotlib inline') \n",
    "#             plt.imshow(np_frame[:,:,[2,1,0]])\n",
    "#             plt.show()\n",
    "\n",
    "        \n",
    "# 接收数据:\n",
    "\n",
    "        #print(s.recv(1024).decode('utf-8'))\n",
    "\n",
    "s.close()"
   ]
  },
  {
   "cell_type": "code",
   "execution_count": 3,
   "metadata": {},
   "outputs": [
    {
     "name": "stdout",
     "output_type": "stream",
     "text": [
      "(784, 64)\n",
      "(64,)\n",
      "(64, 5)\n",
      "(5,)\n"
     ]
    }
   ],
   "source": [
    "weight11 = np.load(\"weight1.npy\")\n",
    "bias11 = np.load(\"bias1.npy\")\n",
    "weight22 = np.load(\"weight2.npy\")\n",
    "bias22 = np.load(\"bias2.npy\")\n",
    "print(weight11.shape)\n",
    "print(bias11.shape)\n",
    "print(weight22.shape)\n",
    "print(bias22.shape)"
   ]
  },
  {
   "cell_type": "code",
   "execution_count": 18,
   "metadata": {},
   "outputs": [],
   "source": [
    "import random\n",
    " \n",
    "data = {1: 100, 2: 50, 3: 100}\n",
    "value_sum = sum(data.values())\n",
    "for i in range(1):\n",
    "    t = random.randint(0, value_sum - 1)\n",
    "    for key, value in data.items():\n",
    "        t -= value\n",
    "        if t < 0:\n",
    "            pick_value = key\n",
    "            break"
   ]
  },
  {
   "cell_type": "code",
   "execution_count": 19,
   "metadata": {},
   "outputs": [
    {
     "name": "stdout",
     "output_type": "stream",
     "text": [
      "-52\n"
     ]
    }
   ],
   "source": [
    "print(t)"
   ]
  },
  {
   "cell_type": "code",
   "execution_count": 20,
   "metadata": {
    "scrolled": true
   },
   "outputs": [
    {
     "name": "stdout",
     "output_type": "stream",
     "text": [
      "3\n"
     ]
    }
   ],
   "source": [
    "print(pick_value)"
   ]
  },
  {
   "cell_type": "code",
   "execution_count": null,
   "metadata": {},
   "outputs": [],
   "source": []
  }
 ],
 "metadata": {
  "kernelspec": {
   "display_name": "Python 3",
   "language": "python",
   "name": "python3"
  },
  "language_info": {
   "codemirror_mode": {
    "name": "ipython",
    "version": 3
   },
   "file_extension": ".py",
   "mimetype": "text/x-python",
   "name": "python",
   "nbconvert_exporter": "python",
   "pygments_lexer": "ipython3",
   "version": "3.8.2"
  }
 },
 "nbformat": 4,
 "nbformat_minor": 2
}
