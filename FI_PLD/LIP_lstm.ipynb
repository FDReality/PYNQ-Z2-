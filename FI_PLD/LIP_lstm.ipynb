{
 "cells": [
  {
   "cell_type": "code",
   "execution_count": 1,
   "metadata": {},
   "outputs": [
    {
     "data": {
      "application/javascript": [
       "\n",
       "try {\n",
       "require(['notebook/js/codecell'], function(codecell) {\n",
       "  codecell.CodeCell.options_default.highlight_modes[\n",
       "      'magic_text/x-csrc'] = {'reg':[/^%%microblaze/]};\n",
       "  Jupyter.notebook.events.one('kernel_ready.Kernel', function(){\n",
       "      Jupyter.notebook.get_cells().map(function(cell){\n",
       "          if (cell.cell_type == 'code'){ cell.auto_highlight(); } }) ;\n",
       "  });\n",
       "});\n",
       "} catch (e) {};\n"
      ]
     },
     "metadata": {},
     "output_type": "display_data"
    },
    {
     "data": {
      "application/javascript": [
       "\n",
       "try {\n",
       "require(['notebook/js/codecell'], function(codecell) {\n",
       "  codecell.CodeCell.options_default.highlight_modes[\n",
       "      'magic_text/x-csrc'] = {'reg':[/^%%pybind11/]};\n",
       "  Jupyter.notebook.events.one('kernel_ready.Kernel', function(){\n",
       "      Jupyter.notebook.get_cells().map(function(cell){\n",
       "          if (cell.cell_type == 'code'){ cell.auto_highlight(); } }) ;\n",
       "  });\n",
       "});\n",
       "} catch (e) {};\n"
      ]
     },
     "metadata": {},
     "output_type": "display_data"
    }
   ],
   "source": [
    "from pynq import Overlay, allocate\n",
    "import pynq.lib.dma\n",
    "from pynq import allocate\n",
    "\n",
    "\n",
    "overlay = Overlay('./LSTM2.bit')  # 加载Overlay\n",
    "dma = overlay.axi_dma_0  # 定义DMA对象"
   ]
  },
  {
   "cell_type": "code",
   "execution_count": 2,
   "metadata": {},
   "outputs": [],
   "source": [
    "# import read_mnist as reader\n",
    "# test_images = reader.load_images('data/t10k-images.idx3-ubyte')  # 读取测试集图片\n",
    "# test_labels = reader.load_labels('data/t10k-labels.idx1-ubyte')  # 读取测试集标签\n",
    "from time import sleep\n",
    "import numpy as np\n",
    "\n",
    "test_images1 = np.load('./gongxifacai2_x_test.npy')\n",
    "test_labels = np.load('./gongxifacai2_y_test.npy')\n",
    "\n",
    "test_images1 = np.array(test_images1,dtype=np.float32)\n",
    "test_labels = np.array(test_labels,dtype=np.float32)\n",
    "\n",
    "\n",
    "# input_buffer = allocate(shape=(203,784), dtype=np.float32)\n",
    "test_images = allocate(shape=(203,784), dtype=np.float32)\n",
    "\n",
    "for i in range(203):\n",
    "    for j in range(784):\n",
    "        test_images[i][j] = test_images1[i][j]\n",
    "\n",
    "        "
   ]
  },
  {
   "cell_type": "code",
   "execution_count": 9,
   "metadata": {},
   "outputs": [
    {
     "name": "stdout",
     "output_type": "stream",
     "text": [
      "Image labels:  [0. 0. 4. 1. 4. 3. 4. 3.]\n"
     ]
    },
    {
     "data": {
      "image/png": "[encoded data removed]",
      "text/plain": [
       "<Figure size 432x288 with 8 Axes>"
      ]
     },
     "metadata": {
      "needs_background": "light"
     },
     "output_type": "display_data"
    }
   ],
   "source": [
    "import random\n",
    "import numpy as np\n",
    "import matplotlib.pyplot as plt\n",
    "\n",
    "IMG_NUM = 8\n",
    "\n",
    "index = [0] * IMG_NUM\n",
    "img = [0] * IMG_NUM\n",
    "for i in range (IMG_NUM):\n",
    "    index[i] = random.randint(0, 203)  # 在测试集中随机选取8张图片\n",
    "    img_dat = np.array(test_images1[index[i]]).reshape(28, 28)\n",
    "\n",
    "# 显示上面选取的8张测试图片\n",
    "plt.figure()\n",
    "for i in range (IMG_NUM):\n",
    "    plt.subplot(1, IMG_NUM, i + 1)\n",
    "    plt.imshow(np.array(test_images1[index[i]]).reshape(28, 28),cmap='gray')\n",
    "print('Image labels: ', test_labels[index])\n",
    "plt.show()"
   ]
  },
  {
   "cell_type": "code",
   "execution_count": 10,
   "metadata": {},
   "outputs": [
    {
     "name": "stdout",
     "output_type": "stream",
     "text": [
      "Result: 0, time: 0.350501s\n",
      "Result: 0, time: 0.341599s\n",
      "Result: 4, time: 0.341066s\n",
      "Result: 1, time: 0.341779s\n",
      "Result: 4, time: 0.340531s\n",
      "Result: 3, time: 0.342114s\n",
      "Result: 4, time: 0.340761s\n",
      "Result: 3, time: 0.340678s\n"
     ]
    }
   ],
   "source": [
    "import time\n",
    "import ctypes as ctyp\n",
    "\n",
    "net = ctyp.CDLL('./liblstm.so')  # 加载RNN软件动态库\n",
    "\n",
    "img_vec = (ctyp.c_float * (28 * 28))()\n",
    "res_vec = (ctyp.c_float * 5)()\n",
    "\n",
    "sw_time = [0] * IMG_NUM\n",
    "for i in range (IMG_NUM):\n",
    "    t0 = time.time()\n",
    "    for j in range(28*28):  # 归一化\n",
    "        img_vec[j] = test_images[index[i]][j] / 255\n",
    "    ifr_res = net.infer(img_vec, res_vec)  # 调用软件RNN进行推导\n",
    "    t1 = time.time()\n",
    "    sw_time[i] = t1 - t0\n",
    "    print('Result: %d,' % test_labels[index[i]], 'time: {:1.6f}s'.format(sw_time[i]))"
   ]
  },
  {
   "cell_type": "code",
   "execution_count": 11,
   "metadata": {},
   "outputs": [
    {
     "name": "stdout",
     "output_type": "stream",
     "text": [
      "Result: 0, time: 0.125522s\n",
      "Result: 0, time: 0.128256s\n",
      "Result: 4, time: 0.127668s\n",
      "Result: 1, time: 0.128341s\n",
      "Result: 4, time: 0.127415s\n",
      "Result: 3, time: 0.128060s\n",
      "Result: 4, time: 0.127400s\n",
      "Result: 3, time: 0.128065s\n",
      "Average speedup: 2.684\n"
     ]
    }
   ],
   "source": [
    "\n",
    "# test_images = np.array(test_images)\n",
    "# test_images = test_images.tolist()\n",
    "\n",
    "hw_time = [0] * IMG_NUM\n",
    "out_buf = allocate(shape=(10000, 10), dtype = np.float32)\n",
    "for i in range (IMG_NUM):\n",
    "    t0 = time.time()\n",
    "    dma.sendchannel.transfer(test_images[index[i]])  # 调用DMA将待预测图片数据传输到IP核\n",
    "    dma.recvchannel.transfer(out_buf[index[i]])  # 调用DMA从IP核获取RNN的推导结果\n",
    "    dma.sendchannel.wait()  # 等待DMA发送完成\n",
    "    dma.recvchannel.wait()  # 等待DMA接收完成\n",
    "    sleep(0.12)\n",
    "\n",
    "    out_list = np.array(out_buf[index[i]]).tolist()\n",
    "    max_indx = out_list.index(max(out_list))  # 推导结果向量的最大分量的下标即为预测结果\n",
    "#     sleep(0.02)\n",
    "    t1 = time.time()\n",
    "    hw_time[i] = t1 - t0\n",
    "    print('Result: %d,' % test_labels[index[i]], 'time: {:1.6f}s'.format(hw_time[i]))\n",
    "    \n",
    "# 计算平均加速比\n",
    "speed_up = [0.0] * IMG_NUM\n",
    "for i in range (IMG_NUM):\n",
    "    speed_up[i] = sw_time[i] / hw_time[i]\n",
    "print('Average speedup: {:.3f}'.format(sum(speed_up) / IMG_NUM))"
   ]
  },
  {
   "cell_type": "code",
   "execution_count": null,
   "metadata": {},
   "outputs": [],
   "source": []
  }
 ],
 "metadata": {
  "kernelspec": {
   "display_name": "Python 3",
   "language": "python",
   "name": "python3"
  },
  "language_info": {
   "codemirror_mode": {
    "name": "ipython",
    "version": 3
   },
   "file_extension": ".py",
   "mimetype": "text/x-python",
   "name": "python",
   "nbconvert_exporter": "python",
   "pygments_lexer": "ipython3",
   "version": "3.8.2"
  }
 },
 "nbformat": 4,
 "nbformat_minor": 2
}
